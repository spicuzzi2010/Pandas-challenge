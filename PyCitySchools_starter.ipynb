{
 "cells": [
  {
   "cell_type": "markdown",
   "metadata": {},
   "source": [
    "### Note\n",
    "* Instructions have been included for each segment. You do not have to follow them exactly, but they are included to help you think through the steps."
   ]
  },
  {
   "cell_type": "code",
   "execution_count": 9,
   "metadata": {},
   "outputs": [
    {
     "output_type": "execute_result",
     "data": {
      "text/plain": [
       "   Student ID       student_name gender grade        school_name  \\\n",
       "0           0       Paul Bradley      M   9th  Huang High School   \n",
       "1           1       Victor Smith      M  12th  Huang High School   \n",
       "2           2    Kevin Rodriguez      M  12th  Huang High School   \n",
       "3           3  Dr. Richard Scott      M  12th  Huang High School   \n",
       "4           4         Bonnie Ray      F   9th  Huang High School   \n",
       "\n",
       "   reading_score  math_score  School ID      type  size   budget  \n",
       "0             66          79          0  District  2917  1910635  \n",
       "1             94          61          0  District  2917  1910635  \n",
       "2             90          60          0  District  2917  1910635  \n",
       "3             67          58          0  District  2917  1910635  \n",
       "4             97          84          0  District  2917  1910635  "
      ],
      "text/html": "<div>\n<style scoped>\n    .dataframe tbody tr th:only-of-type {\n        vertical-align: middle;\n    }\n\n    .dataframe tbody tr th {\n        vertical-align: top;\n    }\n\n    .dataframe thead th {\n        text-align: right;\n    }\n</style>\n<table border=\"1\" class=\"dataframe\">\n  <thead>\n    <tr style=\"text-align: right;\">\n      <th></th>\n      <th>Student ID</th>\n      <th>student_name</th>\n      <th>gender</th>\n      <th>grade</th>\n      <th>school_name</th>\n      <th>reading_score</th>\n      <th>math_score</th>\n      <th>School ID</th>\n      <th>type</th>\n      <th>size</th>\n      <th>budget</th>\n    </tr>\n  </thead>\n  <tbody>\n    <tr>\n      <th>0</th>\n      <td>0</td>\n      <td>Paul Bradley</td>\n      <td>M</td>\n      <td>9th</td>\n      <td>Huang High School</td>\n      <td>66</td>\n      <td>79</td>\n      <td>0</td>\n      <td>District</td>\n      <td>2917</td>\n      <td>1910635</td>\n    </tr>\n    <tr>\n      <th>1</th>\n      <td>1</td>\n      <td>Victor Smith</td>\n      <td>M</td>\n      <td>12th</td>\n      <td>Huang High School</td>\n      <td>94</td>\n      <td>61</td>\n      <td>0</td>\n      <td>District</td>\n      <td>2917</td>\n      <td>1910635</td>\n    </tr>\n    <tr>\n      <th>2</th>\n      <td>2</td>\n      <td>Kevin Rodriguez</td>\n      <td>M</td>\n      <td>12th</td>\n      <td>Huang High School</td>\n      <td>90</td>\n      <td>60</td>\n      <td>0</td>\n      <td>District</td>\n      <td>2917</td>\n      <td>1910635</td>\n    </tr>\n    <tr>\n      <th>3</th>\n      <td>3</td>\n      <td>Dr. Richard Scott</td>\n      <td>M</td>\n      <td>12th</td>\n      <td>Huang High School</td>\n      <td>67</td>\n      <td>58</td>\n      <td>0</td>\n      <td>District</td>\n      <td>2917</td>\n      <td>1910635</td>\n    </tr>\n    <tr>\n      <th>4</th>\n      <td>4</td>\n      <td>Bonnie Ray</td>\n      <td>F</td>\n      <td>9th</td>\n      <td>Huang High School</td>\n      <td>97</td>\n      <td>84</td>\n      <td>0</td>\n      <td>District</td>\n      <td>2917</td>\n      <td>1910635</td>\n    </tr>\n  </tbody>\n</table>\n</div>"
     },
     "metadata": {},
     "execution_count": 9
    }
   ],
   "source": [
    "# Dependencies and Setup\n",
    "import pandas as pd\n",
    "import numpy as np\n",
    "\n",
    "# File to Load (Remember to Change These)\n",
    "school_data_to_load = \"Resources/schools_complete.csv\"\n",
    "student_data_to_load = \"Resources/students_complete.csv\"\n",
    "\n",
    "# Read School and Student Data File and store into Pandas DataFrames\n",
    "school_data = pd.read_csv(school_data_to_load)\n",
    "student_data = pd.read_csv(student_data_to_load)\n",
    "\n",
    "# Combine the data into a single dataset.  \n",
    "school_data_complete = pd.merge(student_data, school_data, how=\"left\", on=[\"school_name\", \"school_name\"])\n",
    "school_data_complete.head()"
   ]
  },
  {
   "cell_type": "markdown",
   "metadata": {},
   "source": [
    "## District Summary\n",
    "\n",
    "* Calculate the total number of schools\n",
    "\n",
    "* Calculate the total number of students\n",
    "\n",
    "* Calculate the total budget\n",
    "\n",
    "* Calculate the average math score \n",
    "\n",
    "* Calculate the average reading score\n",
    "\n",
    "* Calculate the percentage of students with a passing math score (70 or greater)\n",
    "\n",
    "* Calculate the percentage of students with a passing reading score (70 or greater)\n",
    "\n",
    "* Calculate the percentage of students who passed math **and** reading (% Overall Passing)\n",
    "\n",
    "* Create a dataframe to hold the above results\n",
    "\n",
    "* Optional: give the displayed data cleaner formatting"
   ]
  },
  {
   "cell_type": "code",
   "execution_count": 10,
   "metadata": {},
   "outputs": [],
   "source": [
    "number_of_schools = len(school_data_complete[\"school_name\"].unique())\n",
    "number_of_students = school_data_complete[\"student_name\"].count()\n",
    "Total_budget = school_data[\"budget\"].sum()\n",
    "math_average = round(school_data_complete[\"math_score\"].mean(),6)\n",
    "reading_average = round(school_data_complete[\"reading_score\"].mean(),6)\n",
    "number_passing_math = school_data_complete.loc[school_data_complete[\"math_score\"]>= 70][\"math_score\"].count()\n",
    "percent_passing_math = \"{:.6%}\".format(number_passing_math/number_of_students)\n",
    "number_passing_reading = school_data_complete.loc[school_data_complete[\"reading_score\"]>= 70][\"reading_score\"].count()\n",
    "percent_passing_reading = \"{:.6%}\".format(number_passing_reading/number_of_students)\n",
    "percent_passing_math_and_reading = \"{:.6%}\".format(school_data_complete[(school_data_complete[\"math_score\"]>= 70) & (school_data_complete[\"reading_score\"]>= 70)][\"student_name\"].count()/number_of_students)"
   ]
  },
  {
   "cell_type": "code",
   "execution_count": 11,
   "metadata": {},
   "outputs": [
    {
     "output_type": "execute_result",
     "data": {
      "text/plain": [
       "   Total Schools Total Student    Total Budget  Average Math Score  \\\n",
       "0             15        39,170  $24,649,428.00           78.985371   \n",
       "\n",
       "   Average Reading Score % Passing Math % Passing Reading % Overall Passing  \n",
       "0               81.87784     74.980853%        85.805463%        65.172326%  "
      ],
      "text/html": "<div>\n<style scoped>\n    .dataframe tbody tr th:only-of-type {\n        vertical-align: middle;\n    }\n\n    .dataframe tbody tr th {\n        vertical-align: top;\n    }\n\n    .dataframe thead th {\n        text-align: right;\n    }\n</style>\n<table border=\"1\" class=\"dataframe\">\n  <thead>\n    <tr style=\"text-align: right;\">\n      <th></th>\n      <th>Total Schools</th>\n      <th>Total Student</th>\n      <th>Total Budget</th>\n      <th>Average Math Score</th>\n      <th>Average Reading Score</th>\n      <th>% Passing Math</th>\n      <th>% Passing Reading</th>\n      <th>% Overall Passing</th>\n    </tr>\n  </thead>\n  <tbody>\n    <tr>\n      <th>0</th>\n      <td>15</td>\n      <td>39,170</td>\n      <td>$24,649,428.00</td>\n      <td>78.985371</td>\n      <td>81.87784</td>\n      <td>74.980853%</td>\n      <td>85.805463%</td>\n      <td>65.172326%</td>\n    </tr>\n  </tbody>\n</table>\n</div>"
     },
     "metadata": {},
     "execution_count": 11
    }
   ],
   "source": [
    "district_summary_df = pd.DataFrame({\n",
    "    \"Total Schools\": [number_of_schools],\n",
    "    \"Total Student\": f\"{number_of_students:,}\",\n",
    "    \"Total Budget\": f\"${Total_budget:,.2f}\",\n",
    "    \"Average Math Score\": [math_average],\n",
    "    \"Average Reading Score\": [reading_average],\n",
    "    \"% Passing Math\": [percent_passing_math],\n",
    "    \"% Passing Reading\": [percent_passing_reading],\n",
    "    \"% Overall Passing\": [percent_passing_math_and_reading]\n",
    "\n",
    "})\n",
    "district_summary_df"
   ]
  },
  {
   "cell_type": "markdown",
   "metadata": {},
   "source": [
    "## School Summary"
   ]
  },
  {
   "cell_type": "markdown",
   "metadata": {},
   "source": [
    "* Create an overview table that summarizes key metrics about each school, including:\n",
    "  * School Name\n",
    "  * School Type\n",
    "  * Total Students\n",
    "  * Total School Budget\n",
    "  * Per Student Budget\n",
    "  * Average Math Score\n",
    "  * Average Reading Score\n",
    "  * % Passing Math\n",
    "  * % Passing Reading\n",
    "  * % Overall Passing (The percentage of students that passed math **and** reading.)\n",
    "  \n",
    "* Create a dataframe to hold the above results"
   ]
  },
  {
   "cell_type": "code",
   "execution_count": 12,
   "metadata": {},
   "outputs": [
    {
     "output_type": "execute_result",
     "data": {
      "text/plain": [
       "<pandas.io.formats.style.Styler at 0x1de801cc0a0>"
      ],
      "text/html": "<style  type=\"text/css\" >\n</style><table id=\"T_c7253ac3_9e39_11eb_96fb_281878ced244\" ><thead>    <tr>        <th class=\"blank level0\" ></th>        <th class=\"col_heading level0 col0\" >School Type</th>        <th class=\"col_heading level0 col1\" >Total Students</th>        <th class=\"col_heading level0 col2\" >Total School Budget</th>        <th class=\"col_heading level0 col3\" >Per Student Budget</th>        <th class=\"col_heading level0 col4\" >Average Math Score</th>        <th class=\"col_heading level0 col5\" >Average Reading Score</th>        <th class=\"col_heading level0 col6\" >% Passing Math</th>        <th class=\"col_heading level0 col7\" >% Passing Reading</th>        <th class=\"col_heading level0 col8\" >% Overall Passing</th>    </tr></thead><tbody>\n                <tr>\n                        <th id=\"T_c7253ac3_9e39_11eb_96fb_281878ced244level0_row0\" class=\"row_heading level0 row0\" >Bailey High School</th>\n                        <td id=\"T_c7253ac3_9e39_11eb_96fb_281878ced244row0_col0\" class=\"data row0 col0\" >District</td>\n                        <td id=\"T_c7253ac3_9e39_11eb_96fb_281878ced244row0_col1\" class=\"data row0 col1\" >4976</td>\n                        <td id=\"T_c7253ac3_9e39_11eb_96fb_281878ced244row0_col2\" class=\"data row0 col2\" >$3,124,928.00</td>\n                        <td id=\"T_c7253ac3_9e39_11eb_96fb_281878ced244row0_col3\" class=\"data row0 col3\" >$628.00</td>\n                        <td id=\"T_c7253ac3_9e39_11eb_96fb_281878ced244row0_col4\" class=\"data row0 col4\" >77.048432</td>\n                        <td id=\"T_c7253ac3_9e39_11eb_96fb_281878ced244row0_col5\" class=\"data row0 col5\" >81.033963</td>\n                        <td id=\"T_c7253ac3_9e39_11eb_96fb_281878ced244row0_col6\" class=\"data row0 col6\" >66.680064%</td>\n                        <td id=\"T_c7253ac3_9e39_11eb_96fb_281878ced244row0_col7\" class=\"data row0 col7\" >81.933280%</td>\n                        <td id=\"T_c7253ac3_9e39_11eb_96fb_281878ced244row0_col8\" class=\"data row0 col8\" >54.642283%</td>\n            </tr>\n            <tr>\n                        <th id=\"T_c7253ac3_9e39_11eb_96fb_281878ced244level0_row1\" class=\"row_heading level0 row1\" >Cabrera High School</th>\n                        <td id=\"T_c7253ac3_9e39_11eb_96fb_281878ced244row1_col0\" class=\"data row1 col0\" >Charter</td>\n                        <td id=\"T_c7253ac3_9e39_11eb_96fb_281878ced244row1_col1\" class=\"data row1 col1\" >1858</td>\n                        <td id=\"T_c7253ac3_9e39_11eb_96fb_281878ced244row1_col2\" class=\"data row1 col2\" >$1,081,356.00</td>\n                        <td id=\"T_c7253ac3_9e39_11eb_96fb_281878ced244row1_col3\" class=\"data row1 col3\" >$582.00</td>\n                        <td id=\"T_c7253ac3_9e39_11eb_96fb_281878ced244row1_col4\" class=\"data row1 col4\" >83.061895</td>\n                        <td id=\"T_c7253ac3_9e39_11eb_96fb_281878ced244row1_col5\" class=\"data row1 col5\" >83.975780</td>\n                        <td id=\"T_c7253ac3_9e39_11eb_96fb_281878ced244row1_col6\" class=\"data row1 col6\" >94.133477%</td>\n                        <td id=\"T_c7253ac3_9e39_11eb_96fb_281878ced244row1_col7\" class=\"data row1 col7\" >97.039828%</td>\n                        <td id=\"T_c7253ac3_9e39_11eb_96fb_281878ced244row1_col8\" class=\"data row1 col8\" >91.334769%</td>\n            </tr>\n            <tr>\n                        <th id=\"T_c7253ac3_9e39_11eb_96fb_281878ced244level0_row2\" class=\"row_heading level0 row2\" >Figueroa High School</th>\n                        <td id=\"T_c7253ac3_9e39_11eb_96fb_281878ced244row2_col0\" class=\"data row2 col0\" >District</td>\n                        <td id=\"T_c7253ac3_9e39_11eb_96fb_281878ced244row2_col1\" class=\"data row2 col1\" >2949</td>\n                        <td id=\"T_c7253ac3_9e39_11eb_96fb_281878ced244row2_col2\" class=\"data row2 col2\" >$1,884,411.00</td>\n                        <td id=\"T_c7253ac3_9e39_11eb_96fb_281878ced244row2_col3\" class=\"data row2 col3\" >$639.00</td>\n                        <td id=\"T_c7253ac3_9e39_11eb_96fb_281878ced244row2_col4\" class=\"data row2 col4\" >76.711767</td>\n                        <td id=\"T_c7253ac3_9e39_11eb_96fb_281878ced244row2_col5\" class=\"data row2 col5\" >81.158020</td>\n                        <td id=\"T_c7253ac3_9e39_11eb_96fb_281878ced244row2_col6\" class=\"data row2 col6\" >65.988471%</td>\n                        <td id=\"T_c7253ac3_9e39_11eb_96fb_281878ced244row2_col7\" class=\"data row2 col7\" >80.739234%</td>\n                        <td id=\"T_c7253ac3_9e39_11eb_96fb_281878ced244row2_col8\" class=\"data row2 col8\" >53.204476%</td>\n            </tr>\n            <tr>\n                        <th id=\"T_c7253ac3_9e39_11eb_96fb_281878ced244level0_row3\" class=\"row_heading level0 row3\" >Ford High School</th>\n                        <td id=\"T_c7253ac3_9e39_11eb_96fb_281878ced244row3_col0\" class=\"data row3 col0\" >District</td>\n                        <td id=\"T_c7253ac3_9e39_11eb_96fb_281878ced244row3_col1\" class=\"data row3 col1\" >2739</td>\n                        <td id=\"T_c7253ac3_9e39_11eb_96fb_281878ced244row3_col2\" class=\"data row3 col2\" >$1,763,916.00</td>\n                        <td id=\"T_c7253ac3_9e39_11eb_96fb_281878ced244row3_col3\" class=\"data row3 col3\" >$644.00</td>\n                        <td id=\"T_c7253ac3_9e39_11eb_96fb_281878ced244row3_col4\" class=\"data row3 col4\" >77.102592</td>\n                        <td id=\"T_c7253ac3_9e39_11eb_96fb_281878ced244row3_col5\" class=\"data row3 col5\" >80.746258</td>\n                        <td id=\"T_c7253ac3_9e39_11eb_96fb_281878ced244row3_col6\" class=\"data row3 col6\" >68.309602%</td>\n                        <td id=\"T_c7253ac3_9e39_11eb_96fb_281878ced244row3_col7\" class=\"data row3 col7\" >79.299014%</td>\n                        <td id=\"T_c7253ac3_9e39_11eb_96fb_281878ced244row3_col8\" class=\"data row3 col8\" >54.289887%</td>\n            </tr>\n            <tr>\n                        <th id=\"T_c7253ac3_9e39_11eb_96fb_281878ced244level0_row4\" class=\"row_heading level0 row4\" >Griffin High School</th>\n                        <td id=\"T_c7253ac3_9e39_11eb_96fb_281878ced244row4_col0\" class=\"data row4 col0\" >Charter</td>\n                        <td id=\"T_c7253ac3_9e39_11eb_96fb_281878ced244row4_col1\" class=\"data row4 col1\" >1468</td>\n                        <td id=\"T_c7253ac3_9e39_11eb_96fb_281878ced244row4_col2\" class=\"data row4 col2\" >$917,500.00</td>\n                        <td id=\"T_c7253ac3_9e39_11eb_96fb_281878ced244row4_col3\" class=\"data row4 col3\" >$625.00</td>\n                        <td id=\"T_c7253ac3_9e39_11eb_96fb_281878ced244row4_col4\" class=\"data row4 col4\" >83.351499</td>\n                        <td id=\"T_c7253ac3_9e39_11eb_96fb_281878ced244row4_col5\" class=\"data row4 col5\" >83.816757</td>\n                        <td id=\"T_c7253ac3_9e39_11eb_96fb_281878ced244row4_col6\" class=\"data row4 col6\" >93.392371%</td>\n                        <td id=\"T_c7253ac3_9e39_11eb_96fb_281878ced244row4_col7\" class=\"data row4 col7\" >97.138965%</td>\n                        <td id=\"T_c7253ac3_9e39_11eb_96fb_281878ced244row4_col8\" class=\"data row4 col8\" >90.599455%</td>\n            </tr>\n            <tr>\n                        <th id=\"T_c7253ac3_9e39_11eb_96fb_281878ced244level0_row5\" class=\"row_heading level0 row5\" >Hernandez High School</th>\n                        <td id=\"T_c7253ac3_9e39_11eb_96fb_281878ced244row5_col0\" class=\"data row5 col0\" >District</td>\n                        <td id=\"T_c7253ac3_9e39_11eb_96fb_281878ced244row5_col1\" class=\"data row5 col1\" >4635</td>\n                        <td id=\"T_c7253ac3_9e39_11eb_96fb_281878ced244row5_col2\" class=\"data row5 col2\" >$3,022,020.00</td>\n                        <td id=\"T_c7253ac3_9e39_11eb_96fb_281878ced244row5_col3\" class=\"data row5 col3\" >$652.00</td>\n                        <td id=\"T_c7253ac3_9e39_11eb_96fb_281878ced244row5_col4\" class=\"data row5 col4\" >77.289752</td>\n                        <td id=\"T_c7253ac3_9e39_11eb_96fb_281878ced244row5_col5\" class=\"data row5 col5\" >80.934412</td>\n                        <td id=\"T_c7253ac3_9e39_11eb_96fb_281878ced244row5_col6\" class=\"data row5 col6\" >66.752967%</td>\n                        <td id=\"T_c7253ac3_9e39_11eb_96fb_281878ced244row5_col7\" class=\"data row5 col7\" >80.862999%</td>\n                        <td id=\"T_c7253ac3_9e39_11eb_96fb_281878ced244row5_col8\" class=\"data row5 col8\" >53.527508%</td>\n            </tr>\n            <tr>\n                        <th id=\"T_c7253ac3_9e39_11eb_96fb_281878ced244level0_row6\" class=\"row_heading level0 row6\" >Holden High School</th>\n                        <td id=\"T_c7253ac3_9e39_11eb_96fb_281878ced244row6_col0\" class=\"data row6 col0\" >Charter</td>\n                        <td id=\"T_c7253ac3_9e39_11eb_96fb_281878ced244row6_col1\" class=\"data row6 col1\" >427</td>\n                        <td id=\"T_c7253ac3_9e39_11eb_96fb_281878ced244row6_col2\" class=\"data row6 col2\" >$248,087.00</td>\n                        <td id=\"T_c7253ac3_9e39_11eb_96fb_281878ced244row6_col3\" class=\"data row6 col3\" >$581.00</td>\n                        <td id=\"T_c7253ac3_9e39_11eb_96fb_281878ced244row6_col4\" class=\"data row6 col4\" >83.803279</td>\n                        <td id=\"T_c7253ac3_9e39_11eb_96fb_281878ced244row6_col5\" class=\"data row6 col5\" >83.814988</td>\n                        <td id=\"T_c7253ac3_9e39_11eb_96fb_281878ced244row6_col6\" class=\"data row6 col6\" >92.505855%</td>\n                        <td id=\"T_c7253ac3_9e39_11eb_96fb_281878ced244row6_col7\" class=\"data row6 col7\" >96.252927%</td>\n                        <td id=\"T_c7253ac3_9e39_11eb_96fb_281878ced244row6_col8\" class=\"data row6 col8\" >89.227166%</td>\n            </tr>\n            <tr>\n                        <th id=\"T_c7253ac3_9e39_11eb_96fb_281878ced244level0_row7\" class=\"row_heading level0 row7\" >Huang High School</th>\n                        <td id=\"T_c7253ac3_9e39_11eb_96fb_281878ced244row7_col0\" class=\"data row7 col0\" >District</td>\n                        <td id=\"T_c7253ac3_9e39_11eb_96fb_281878ced244row7_col1\" class=\"data row7 col1\" >2917</td>\n                        <td id=\"T_c7253ac3_9e39_11eb_96fb_281878ced244row7_col2\" class=\"data row7 col2\" >$1,910,635.00</td>\n                        <td id=\"T_c7253ac3_9e39_11eb_96fb_281878ced244row7_col3\" class=\"data row7 col3\" >$655.00</td>\n                        <td id=\"T_c7253ac3_9e39_11eb_96fb_281878ced244row7_col4\" class=\"data row7 col4\" >76.629414</td>\n                        <td id=\"T_c7253ac3_9e39_11eb_96fb_281878ced244row7_col5\" class=\"data row7 col5\" >81.182722</td>\n                        <td id=\"T_c7253ac3_9e39_11eb_96fb_281878ced244row7_col6\" class=\"data row7 col6\" >65.683922%</td>\n                        <td id=\"T_c7253ac3_9e39_11eb_96fb_281878ced244row7_col7\" class=\"data row7 col7\" >81.316421%</td>\n                        <td id=\"T_c7253ac3_9e39_11eb_96fb_281878ced244row7_col8\" class=\"data row7 col8\" >53.513884%</td>\n            </tr>\n            <tr>\n                        <th id=\"T_c7253ac3_9e39_11eb_96fb_281878ced244level0_row8\" class=\"row_heading level0 row8\" >Johnson High School</th>\n                        <td id=\"T_c7253ac3_9e39_11eb_96fb_281878ced244row8_col0\" class=\"data row8 col0\" >District</td>\n                        <td id=\"T_c7253ac3_9e39_11eb_96fb_281878ced244row8_col1\" class=\"data row8 col1\" >4761</td>\n                        <td id=\"T_c7253ac3_9e39_11eb_96fb_281878ced244row8_col2\" class=\"data row8 col2\" >$3,094,650.00</td>\n                        <td id=\"T_c7253ac3_9e39_11eb_96fb_281878ced244row8_col3\" class=\"data row8 col3\" >$650.00</td>\n                        <td id=\"T_c7253ac3_9e39_11eb_96fb_281878ced244row8_col4\" class=\"data row8 col4\" >77.072464</td>\n                        <td id=\"T_c7253ac3_9e39_11eb_96fb_281878ced244row8_col5\" class=\"data row8 col5\" >80.966394</td>\n                        <td id=\"T_c7253ac3_9e39_11eb_96fb_281878ced244row8_col6\" class=\"data row8 col6\" >66.057551%</td>\n                        <td id=\"T_c7253ac3_9e39_11eb_96fb_281878ced244row8_col7\" class=\"data row8 col7\" >81.222432%</td>\n                        <td id=\"T_c7253ac3_9e39_11eb_96fb_281878ced244row8_col8\" class=\"data row8 col8\" >53.539172%</td>\n            </tr>\n            <tr>\n                        <th id=\"T_c7253ac3_9e39_11eb_96fb_281878ced244level0_row9\" class=\"row_heading level0 row9\" >Pena High School</th>\n                        <td id=\"T_c7253ac3_9e39_11eb_96fb_281878ced244row9_col0\" class=\"data row9 col0\" >Charter</td>\n                        <td id=\"T_c7253ac3_9e39_11eb_96fb_281878ced244row9_col1\" class=\"data row9 col1\" >962</td>\n                        <td id=\"T_c7253ac3_9e39_11eb_96fb_281878ced244row9_col2\" class=\"data row9 col2\" >$585,858.00</td>\n                        <td id=\"T_c7253ac3_9e39_11eb_96fb_281878ced244row9_col3\" class=\"data row9 col3\" >$609.00</td>\n                        <td id=\"T_c7253ac3_9e39_11eb_96fb_281878ced244row9_col4\" class=\"data row9 col4\" >83.839917</td>\n                        <td id=\"T_c7253ac3_9e39_11eb_96fb_281878ced244row9_col5\" class=\"data row9 col5\" >84.044699</td>\n                        <td id=\"T_c7253ac3_9e39_11eb_96fb_281878ced244row9_col6\" class=\"data row9 col6\" >94.594595%</td>\n                        <td id=\"T_c7253ac3_9e39_11eb_96fb_281878ced244row9_col7\" class=\"data row9 col7\" >95.945946%</td>\n                        <td id=\"T_c7253ac3_9e39_11eb_96fb_281878ced244row9_col8\" class=\"data row9 col8\" >90.540541%</td>\n            </tr>\n            <tr>\n                        <th id=\"T_c7253ac3_9e39_11eb_96fb_281878ced244level0_row10\" class=\"row_heading level0 row10\" >Rodriguez High School</th>\n                        <td id=\"T_c7253ac3_9e39_11eb_96fb_281878ced244row10_col0\" class=\"data row10 col0\" >District</td>\n                        <td id=\"T_c7253ac3_9e39_11eb_96fb_281878ced244row10_col1\" class=\"data row10 col1\" >3999</td>\n                        <td id=\"T_c7253ac3_9e39_11eb_96fb_281878ced244row10_col2\" class=\"data row10 col2\" >$2,547,363.00</td>\n                        <td id=\"T_c7253ac3_9e39_11eb_96fb_281878ced244row10_col3\" class=\"data row10 col3\" >$637.00</td>\n                        <td id=\"T_c7253ac3_9e39_11eb_96fb_281878ced244row10_col4\" class=\"data row10 col4\" >76.842711</td>\n                        <td id=\"T_c7253ac3_9e39_11eb_96fb_281878ced244row10_col5\" class=\"data row10 col5\" >80.744686</td>\n                        <td id=\"T_c7253ac3_9e39_11eb_96fb_281878ced244row10_col6\" class=\"data row10 col6\" >66.366592%</td>\n                        <td id=\"T_c7253ac3_9e39_11eb_96fb_281878ced244row10_col7\" class=\"data row10 col7\" >80.220055%</td>\n                        <td id=\"T_c7253ac3_9e39_11eb_96fb_281878ced244row10_col8\" class=\"data row10 col8\" >52.988247%</td>\n            </tr>\n            <tr>\n                        <th id=\"T_c7253ac3_9e39_11eb_96fb_281878ced244level0_row11\" class=\"row_heading level0 row11\" >Shelton High School</th>\n                        <td id=\"T_c7253ac3_9e39_11eb_96fb_281878ced244row11_col0\" class=\"data row11 col0\" >Charter</td>\n                        <td id=\"T_c7253ac3_9e39_11eb_96fb_281878ced244row11_col1\" class=\"data row11 col1\" >1761</td>\n                        <td id=\"T_c7253ac3_9e39_11eb_96fb_281878ced244row11_col2\" class=\"data row11 col2\" >$1,056,600.00</td>\n                        <td id=\"T_c7253ac3_9e39_11eb_96fb_281878ced244row11_col3\" class=\"data row11 col3\" >$600.00</td>\n                        <td id=\"T_c7253ac3_9e39_11eb_96fb_281878ced244row11_col4\" class=\"data row11 col4\" >83.359455</td>\n                        <td id=\"T_c7253ac3_9e39_11eb_96fb_281878ced244row11_col5\" class=\"data row11 col5\" >83.725724</td>\n                        <td id=\"T_c7253ac3_9e39_11eb_96fb_281878ced244row11_col6\" class=\"data row11 col6\" >93.867121%</td>\n                        <td id=\"T_c7253ac3_9e39_11eb_96fb_281878ced244row11_col7\" class=\"data row11 col7\" >95.854628%</td>\n                        <td id=\"T_c7253ac3_9e39_11eb_96fb_281878ced244row11_col8\" class=\"data row11 col8\" >89.892107%</td>\n            </tr>\n            <tr>\n                        <th id=\"T_c7253ac3_9e39_11eb_96fb_281878ced244level0_row12\" class=\"row_heading level0 row12\" >Thomas High School</th>\n                        <td id=\"T_c7253ac3_9e39_11eb_96fb_281878ced244row12_col0\" class=\"data row12 col0\" >Charter</td>\n                        <td id=\"T_c7253ac3_9e39_11eb_96fb_281878ced244row12_col1\" class=\"data row12 col1\" >1635</td>\n                        <td id=\"T_c7253ac3_9e39_11eb_96fb_281878ced244row12_col2\" class=\"data row12 col2\" >$1,043,130.00</td>\n                        <td id=\"T_c7253ac3_9e39_11eb_96fb_281878ced244row12_col3\" class=\"data row12 col3\" >$638.00</td>\n                        <td id=\"T_c7253ac3_9e39_11eb_96fb_281878ced244row12_col4\" class=\"data row12 col4\" >83.418349</td>\n                        <td id=\"T_c7253ac3_9e39_11eb_96fb_281878ced244row12_col5\" class=\"data row12 col5\" >83.848930</td>\n                        <td id=\"T_c7253ac3_9e39_11eb_96fb_281878ced244row12_col6\" class=\"data row12 col6\" >93.272171%</td>\n                        <td id=\"T_c7253ac3_9e39_11eb_96fb_281878ced244row12_col7\" class=\"data row12 col7\" >97.308869%</td>\n                        <td id=\"T_c7253ac3_9e39_11eb_96fb_281878ced244row12_col8\" class=\"data row12 col8\" >90.948012%</td>\n            </tr>\n            <tr>\n                        <th id=\"T_c7253ac3_9e39_11eb_96fb_281878ced244level0_row13\" class=\"row_heading level0 row13\" >Wilson High School</th>\n                        <td id=\"T_c7253ac3_9e39_11eb_96fb_281878ced244row13_col0\" class=\"data row13 col0\" >Charter</td>\n                        <td id=\"T_c7253ac3_9e39_11eb_96fb_281878ced244row13_col1\" class=\"data row13 col1\" >2283</td>\n                        <td id=\"T_c7253ac3_9e39_11eb_96fb_281878ced244row13_col2\" class=\"data row13 col2\" >$1,319,574.00</td>\n                        <td id=\"T_c7253ac3_9e39_11eb_96fb_281878ced244row13_col3\" class=\"data row13 col3\" >$578.00</td>\n                        <td id=\"T_c7253ac3_9e39_11eb_96fb_281878ced244row13_col4\" class=\"data row13 col4\" >83.274201</td>\n                        <td id=\"T_c7253ac3_9e39_11eb_96fb_281878ced244row13_col5\" class=\"data row13 col5\" >83.989488</td>\n                        <td id=\"T_c7253ac3_9e39_11eb_96fb_281878ced244row13_col6\" class=\"data row13 col6\" >93.867718%</td>\n                        <td id=\"T_c7253ac3_9e39_11eb_96fb_281878ced244row13_col7\" class=\"data row13 col7\" >96.539641%</td>\n                        <td id=\"T_c7253ac3_9e39_11eb_96fb_281878ced244row13_col8\" class=\"data row13 col8\" >90.582567%</td>\n            </tr>\n            <tr>\n                        <th id=\"T_c7253ac3_9e39_11eb_96fb_281878ced244level0_row14\" class=\"row_heading level0 row14\" >Wright High School</th>\n                        <td id=\"T_c7253ac3_9e39_11eb_96fb_281878ced244row14_col0\" class=\"data row14 col0\" >Charter</td>\n                        <td id=\"T_c7253ac3_9e39_11eb_96fb_281878ced244row14_col1\" class=\"data row14 col1\" >1800</td>\n                        <td id=\"T_c7253ac3_9e39_11eb_96fb_281878ced244row14_col2\" class=\"data row14 col2\" >$1,049,400.00</td>\n                        <td id=\"T_c7253ac3_9e39_11eb_96fb_281878ced244row14_col3\" class=\"data row14 col3\" >$583.00</td>\n                        <td id=\"T_c7253ac3_9e39_11eb_96fb_281878ced244row14_col4\" class=\"data row14 col4\" >83.682222</td>\n                        <td id=\"T_c7253ac3_9e39_11eb_96fb_281878ced244row14_col5\" class=\"data row14 col5\" >83.955000</td>\n                        <td id=\"T_c7253ac3_9e39_11eb_96fb_281878ced244row14_col6\" class=\"data row14 col6\" >93.333333%</td>\n                        <td id=\"T_c7253ac3_9e39_11eb_96fb_281878ced244row14_col7\" class=\"data row14 col7\" >96.611111%</td>\n                        <td id=\"T_c7253ac3_9e39_11eb_96fb_281878ced244row14_col8\" class=\"data row14 col8\" >90.333333%</td>\n            </tr>\n    </tbody></table>"
     },
     "metadata": {},
     "execution_count": 12
    }
   ],
   "source": [
    "#Creating a df school names\n",
    "summary_by_school_df = school_data_complete.groupby([\"school_name\"])\n",
    "#Creating a df of school names by school type \n",
    "school_type = school_data.set_index(\"school_name\")[\"type\"]\n",
    "#Creating df for the total number of students per school\n",
    "students_per_school = summary_by_school_df[\"student_name\"].count()\n",
    "#creating a df for the total budget per school\n",
    "school_budget_df = school_data.set_index(\"school_name\")[\"budget\"]\n",
    "#Creating a df for the budget per student\n",
    "student_budget_df = school_data.set_index(\"school_name\")[\"budget\"]/school_data.set_index(\"school_name\")[\"size\"]\n",
    "#Creating df's for average math and reading scores per school\n",
    "average_math_score_by_school = round(summary_by_school_df[\"math_score\"].mean(),6)\n",
    "average_reading_score_by_school = round(summary_by_school_df[\"reading_score\"].mean(),6)\n",
    "#Creating df's for % passing math, reading, and both\n",
    "percent_passing_math_by_school = school_data_complete.loc[school_data_complete[\"math_score\"]>= 70].groupby(\"school_name\")[\"student_name\"].count()/students_per_school\n",
    "percent_passing_reading_by_school = school_data_complete.loc[school_data_complete[\"reading_score\"]>= 70].groupby(\"school_name\")[\"student_name\"].count()/students_per_school\n",
    "percent_passing_math_and_reading_by_school = school_data_complete[(school_data_complete[\"math_score\"]>= 70) & (school_data_complete[\"reading_score\"]>= 70)].groupby(\"school_name\")[\"student_name\"].count()/students_per_school\n",
    "\n",
    "\n",
    "school_summary_df = pd.DataFrame({\n",
    "    \"School Type\": school_type,\n",
    "    \"Total Students\": students_per_school,\n",
    "    \"Total School Budget\": school_budget_df,\n",
    "    \"Per Student Budget\": student_budget_df,\n",
    "    \"Average Math Score\": average_math_score_by_school,\n",
    "    \"Average Reading Score\": average_reading_score_by_school,\n",
    "    \"% Passing Math\": percent_passing_math_by_school,\n",
    "    \"% Passing Reading\": percent_passing_reading_by_school,\n",
    "    \"% Overall Passing\": percent_passing_math_and_reading_by_school\n",
    "    })\n",
    "\n",
    "school_summary_df_formatted = school_summary_df.style.format({\n",
    "    \"Total School Budget\": \"${:,.2f}\",\n",
    "    \"Per Student Budget\": \"${:,.2f}\",\n",
    "    \"% Passing Math\": \"{:.6%}\",\n",
    "    \"% Passing Reading\": \"{:.6%}\",\n",
    "    \"% Overall Passing\": \"{:.6%}\",\n",
    "})\n",
    "school_summary_df_formatted"
   ]
  },
  {
   "cell_type": "markdown",
   "metadata": {},
   "source": [
    "## Top Performing Schools (By % Overall Passing)"
   ]
  },
  {
   "cell_type": "markdown",
   "metadata": {},
   "source": [
    "* Sort and display the top five performing schools by % overall passing."
   ]
  },
  {
   "cell_type": "code",
   "execution_count": 21,
   "metadata": {
    "scrolled": true
   },
   "outputs": [
    {
     "output_type": "execute_result",
     "data": {
      "text/plain": [
       "<pandas.io.formats.style.Styler at 0x1de818413a0>"
      ],
      "text/html": "<style  type=\"text/css\" >\n</style><table id=\"T_16ce1b64_9e3c_11eb_b576_281878ced244\" ><thead>    <tr>        <th class=\"blank level0\" ></th>        <th class=\"col_heading level0 col0\" >School Type</th>        <th class=\"col_heading level0 col1\" >Total Students</th>        <th class=\"col_heading level0 col2\" >Total School Budget</th>        <th class=\"col_heading level0 col3\" >Per Student Budget</th>        <th class=\"col_heading level0 col4\" >Average Math Score</th>        <th class=\"col_heading level0 col5\" >Average Reading Score</th>        <th class=\"col_heading level0 col6\" >% Passing Math</th>        <th class=\"col_heading level0 col7\" >% Passing Reading</th>        <th class=\"col_heading level0 col8\" >% Overall Passing</th>    </tr></thead><tbody>\n                <tr>\n                        <th id=\"T_16ce1b64_9e3c_11eb_b576_281878ced244level0_row0\" class=\"row_heading level0 row0\" >Cabrera High School</th>\n                        <td id=\"T_16ce1b64_9e3c_11eb_b576_281878ced244row0_col0\" class=\"data row0 col0\" >Charter</td>\n                        <td id=\"T_16ce1b64_9e3c_11eb_b576_281878ced244row0_col1\" class=\"data row0 col1\" >1858</td>\n                        <td id=\"T_16ce1b64_9e3c_11eb_b576_281878ced244row0_col2\" class=\"data row0 col2\" >$1,081,356.00</td>\n                        <td id=\"T_16ce1b64_9e3c_11eb_b576_281878ced244row0_col3\" class=\"data row0 col3\" >$582.00</td>\n                        <td id=\"T_16ce1b64_9e3c_11eb_b576_281878ced244row0_col4\" class=\"data row0 col4\" >83.061895</td>\n                        <td id=\"T_16ce1b64_9e3c_11eb_b576_281878ced244row0_col5\" class=\"data row0 col5\" >83.975780</td>\n                        <td id=\"T_16ce1b64_9e3c_11eb_b576_281878ced244row0_col6\" class=\"data row0 col6\" >94.133477%</td>\n                        <td id=\"T_16ce1b64_9e3c_11eb_b576_281878ced244row0_col7\" class=\"data row0 col7\" >97.039828%</td>\n                        <td id=\"T_16ce1b64_9e3c_11eb_b576_281878ced244row0_col8\" class=\"data row0 col8\" >91.334769%</td>\n            </tr>\n            <tr>\n                        <th id=\"T_16ce1b64_9e3c_11eb_b576_281878ced244level0_row1\" class=\"row_heading level0 row1\" >Thomas High School</th>\n                        <td id=\"T_16ce1b64_9e3c_11eb_b576_281878ced244row1_col0\" class=\"data row1 col0\" >Charter</td>\n                        <td id=\"T_16ce1b64_9e3c_11eb_b576_281878ced244row1_col1\" class=\"data row1 col1\" >1635</td>\n                        <td id=\"T_16ce1b64_9e3c_11eb_b576_281878ced244row1_col2\" class=\"data row1 col2\" >$1,043,130.00</td>\n                        <td id=\"T_16ce1b64_9e3c_11eb_b576_281878ced244row1_col3\" class=\"data row1 col3\" >$638.00</td>\n                        <td id=\"T_16ce1b64_9e3c_11eb_b576_281878ced244row1_col4\" class=\"data row1 col4\" >83.418349</td>\n                        <td id=\"T_16ce1b64_9e3c_11eb_b576_281878ced244row1_col5\" class=\"data row1 col5\" >83.848930</td>\n                        <td id=\"T_16ce1b64_9e3c_11eb_b576_281878ced244row1_col6\" class=\"data row1 col6\" >93.272171%</td>\n                        <td id=\"T_16ce1b64_9e3c_11eb_b576_281878ced244row1_col7\" class=\"data row1 col7\" >97.308869%</td>\n                        <td id=\"T_16ce1b64_9e3c_11eb_b576_281878ced244row1_col8\" class=\"data row1 col8\" >90.948012%</td>\n            </tr>\n            <tr>\n                        <th id=\"T_16ce1b64_9e3c_11eb_b576_281878ced244level0_row2\" class=\"row_heading level0 row2\" >Griffin High School</th>\n                        <td id=\"T_16ce1b64_9e3c_11eb_b576_281878ced244row2_col0\" class=\"data row2 col0\" >Charter</td>\n                        <td id=\"T_16ce1b64_9e3c_11eb_b576_281878ced244row2_col1\" class=\"data row2 col1\" >1468</td>\n                        <td id=\"T_16ce1b64_9e3c_11eb_b576_281878ced244row2_col2\" class=\"data row2 col2\" >$917,500.00</td>\n                        <td id=\"T_16ce1b64_9e3c_11eb_b576_281878ced244row2_col3\" class=\"data row2 col3\" >$625.00</td>\n                        <td id=\"T_16ce1b64_9e3c_11eb_b576_281878ced244row2_col4\" class=\"data row2 col4\" >83.351499</td>\n                        <td id=\"T_16ce1b64_9e3c_11eb_b576_281878ced244row2_col5\" class=\"data row2 col5\" >83.816757</td>\n                        <td id=\"T_16ce1b64_9e3c_11eb_b576_281878ced244row2_col6\" class=\"data row2 col6\" >93.392371%</td>\n                        <td id=\"T_16ce1b64_9e3c_11eb_b576_281878ced244row2_col7\" class=\"data row2 col7\" >97.138965%</td>\n                        <td id=\"T_16ce1b64_9e3c_11eb_b576_281878ced244row2_col8\" class=\"data row2 col8\" >90.599455%</td>\n            </tr>\n            <tr>\n                        <th id=\"T_16ce1b64_9e3c_11eb_b576_281878ced244level0_row3\" class=\"row_heading level0 row3\" >Wilson High School</th>\n                        <td id=\"T_16ce1b64_9e3c_11eb_b576_281878ced244row3_col0\" class=\"data row3 col0\" >Charter</td>\n                        <td id=\"T_16ce1b64_9e3c_11eb_b576_281878ced244row3_col1\" class=\"data row3 col1\" >2283</td>\n                        <td id=\"T_16ce1b64_9e3c_11eb_b576_281878ced244row3_col2\" class=\"data row3 col2\" >$1,319,574.00</td>\n                        <td id=\"T_16ce1b64_9e3c_11eb_b576_281878ced244row3_col3\" class=\"data row3 col3\" >$578.00</td>\n                        <td id=\"T_16ce1b64_9e3c_11eb_b576_281878ced244row3_col4\" class=\"data row3 col4\" >83.274201</td>\n                        <td id=\"T_16ce1b64_9e3c_11eb_b576_281878ced244row3_col5\" class=\"data row3 col5\" >83.989488</td>\n                        <td id=\"T_16ce1b64_9e3c_11eb_b576_281878ced244row3_col6\" class=\"data row3 col6\" >93.867718%</td>\n                        <td id=\"T_16ce1b64_9e3c_11eb_b576_281878ced244row3_col7\" class=\"data row3 col7\" >96.539641%</td>\n                        <td id=\"T_16ce1b64_9e3c_11eb_b576_281878ced244row3_col8\" class=\"data row3 col8\" >90.582567%</td>\n            </tr>\n            <tr>\n                        <th id=\"T_16ce1b64_9e3c_11eb_b576_281878ced244level0_row4\" class=\"row_heading level0 row4\" >Pena High School</th>\n                        <td id=\"T_16ce1b64_9e3c_11eb_b576_281878ced244row4_col0\" class=\"data row4 col0\" >Charter</td>\n                        <td id=\"T_16ce1b64_9e3c_11eb_b576_281878ced244row4_col1\" class=\"data row4 col1\" >962</td>\n                        <td id=\"T_16ce1b64_9e3c_11eb_b576_281878ced244row4_col2\" class=\"data row4 col2\" >$585,858.00</td>\n                        <td id=\"T_16ce1b64_9e3c_11eb_b576_281878ced244row4_col3\" class=\"data row4 col3\" >$609.00</td>\n                        <td id=\"T_16ce1b64_9e3c_11eb_b576_281878ced244row4_col4\" class=\"data row4 col4\" >83.839917</td>\n                        <td id=\"T_16ce1b64_9e3c_11eb_b576_281878ced244row4_col5\" class=\"data row4 col5\" >84.044699</td>\n                        <td id=\"T_16ce1b64_9e3c_11eb_b576_281878ced244row4_col6\" class=\"data row4 col6\" >94.594595%</td>\n                        <td id=\"T_16ce1b64_9e3c_11eb_b576_281878ced244row4_col7\" class=\"data row4 col7\" >95.945946%</td>\n                        <td id=\"T_16ce1b64_9e3c_11eb_b576_281878ced244row4_col8\" class=\"data row4 col8\" >90.540541%</td>\n            </tr>\n    </tbody></table>"
     },
     "metadata": {},
     "execution_count": 21
    }
   ],
   "source": [
    "top_performing_school_df = school_summary_df.sort_values(by=[\"% Overall Passing\"], ascending = False)\n",
    "\n",
    "top_performing_school_df_formatted = top_performing_school_df.head(5).style.format({\n",
    "    \n",
    "    \"Total School Budget\": \"${:,.2f}\",\n",
    "    \"Per Student Budget\": \"${:,.2f}\",\n",
    "    \"% Passing Math\": \"{:.6%}\",\n",
    "    \"% Passing Reading\": \"{:.6%}\",\n",
    "    \"% Overall Passing\": \"{:.6%}\",\n",
    "})\n",
    "\n",
    "top_performing_school_df_formatted"
   ]
  },
  {
   "cell_type": "markdown",
   "metadata": {},
   "source": [
    "## Bottom Performing Schools (By % Overall Passing)"
   ]
  },
  {
   "cell_type": "markdown",
   "metadata": {},
   "source": [
    "* Sort and display the five worst-performing schools by % overall passing."
   ]
  },
  {
   "cell_type": "code",
   "execution_count": 22,
   "metadata": {},
   "outputs": [
    {
     "output_type": "execute_result",
     "data": {
      "text/plain": [
       "<pandas.io.formats.style.Styler at 0x1de80cdab20>"
      ],
      "text/html": "<style  type=\"text/css\" >\n</style><table id=\"T_3964c551_9e3c_11eb_9e55_281878ced244\" ><thead>    <tr>        <th class=\"blank level0\" ></th>        <th class=\"col_heading level0 col0\" >School Type</th>        <th class=\"col_heading level0 col1\" >Total Students</th>        <th class=\"col_heading level0 col2\" >Total School Budget</th>        <th class=\"col_heading level0 col3\" >Per Student Budget</th>        <th class=\"col_heading level0 col4\" >Average Math Score</th>        <th class=\"col_heading level0 col5\" >Average Reading Score</th>        <th class=\"col_heading level0 col6\" >% Passing Math</th>        <th class=\"col_heading level0 col7\" >% Passing Reading</th>        <th class=\"col_heading level0 col8\" >% Overall Passing</th>    </tr></thead><tbody>\n                <tr>\n                        <th id=\"T_3964c551_9e3c_11eb_9e55_281878ced244level0_row0\" class=\"row_heading level0 row0\" >Rodriguez High School</th>\n                        <td id=\"T_3964c551_9e3c_11eb_9e55_281878ced244row0_col0\" class=\"data row0 col0\" >District</td>\n                        <td id=\"T_3964c551_9e3c_11eb_9e55_281878ced244row0_col1\" class=\"data row0 col1\" >3999</td>\n                        <td id=\"T_3964c551_9e3c_11eb_9e55_281878ced244row0_col2\" class=\"data row0 col2\" >$2,547,363.00</td>\n                        <td id=\"T_3964c551_9e3c_11eb_9e55_281878ced244row0_col3\" class=\"data row0 col3\" >$637.00</td>\n                        <td id=\"T_3964c551_9e3c_11eb_9e55_281878ced244row0_col4\" class=\"data row0 col4\" >76.842711</td>\n                        <td id=\"T_3964c551_9e3c_11eb_9e55_281878ced244row0_col5\" class=\"data row0 col5\" >80.744686</td>\n                        <td id=\"T_3964c551_9e3c_11eb_9e55_281878ced244row0_col6\" class=\"data row0 col6\" >66.366592%</td>\n                        <td id=\"T_3964c551_9e3c_11eb_9e55_281878ced244row0_col7\" class=\"data row0 col7\" >80.220055%</td>\n                        <td id=\"T_3964c551_9e3c_11eb_9e55_281878ced244row0_col8\" class=\"data row0 col8\" >52.988247%</td>\n            </tr>\n            <tr>\n                        <th id=\"T_3964c551_9e3c_11eb_9e55_281878ced244level0_row1\" class=\"row_heading level0 row1\" >Figueroa High School</th>\n                        <td id=\"T_3964c551_9e3c_11eb_9e55_281878ced244row1_col0\" class=\"data row1 col0\" >District</td>\n                        <td id=\"T_3964c551_9e3c_11eb_9e55_281878ced244row1_col1\" class=\"data row1 col1\" >2949</td>\n                        <td id=\"T_3964c551_9e3c_11eb_9e55_281878ced244row1_col2\" class=\"data row1 col2\" >$1,884,411.00</td>\n                        <td id=\"T_3964c551_9e3c_11eb_9e55_281878ced244row1_col3\" class=\"data row1 col3\" >$639.00</td>\n                        <td id=\"T_3964c551_9e3c_11eb_9e55_281878ced244row1_col4\" class=\"data row1 col4\" >76.711767</td>\n                        <td id=\"T_3964c551_9e3c_11eb_9e55_281878ced244row1_col5\" class=\"data row1 col5\" >81.158020</td>\n                        <td id=\"T_3964c551_9e3c_11eb_9e55_281878ced244row1_col6\" class=\"data row1 col6\" >65.988471%</td>\n                        <td id=\"T_3964c551_9e3c_11eb_9e55_281878ced244row1_col7\" class=\"data row1 col7\" >80.739234%</td>\n                        <td id=\"T_3964c551_9e3c_11eb_9e55_281878ced244row1_col8\" class=\"data row1 col8\" >53.204476%</td>\n            </tr>\n            <tr>\n                        <th id=\"T_3964c551_9e3c_11eb_9e55_281878ced244level0_row2\" class=\"row_heading level0 row2\" >Huang High School</th>\n                        <td id=\"T_3964c551_9e3c_11eb_9e55_281878ced244row2_col0\" class=\"data row2 col0\" >District</td>\n                        <td id=\"T_3964c551_9e3c_11eb_9e55_281878ced244row2_col1\" class=\"data row2 col1\" >2917</td>\n                        <td id=\"T_3964c551_9e3c_11eb_9e55_281878ced244row2_col2\" class=\"data row2 col2\" >$1,910,635.00</td>\n                        <td id=\"T_3964c551_9e3c_11eb_9e55_281878ced244row2_col3\" class=\"data row2 col3\" >$655.00</td>\n                        <td id=\"T_3964c551_9e3c_11eb_9e55_281878ced244row2_col4\" class=\"data row2 col4\" >76.629414</td>\n                        <td id=\"T_3964c551_9e3c_11eb_9e55_281878ced244row2_col5\" class=\"data row2 col5\" >81.182722</td>\n                        <td id=\"T_3964c551_9e3c_11eb_9e55_281878ced244row2_col6\" class=\"data row2 col6\" >65.683922%</td>\n                        <td id=\"T_3964c551_9e3c_11eb_9e55_281878ced244row2_col7\" class=\"data row2 col7\" >81.316421%</td>\n                        <td id=\"T_3964c551_9e3c_11eb_9e55_281878ced244row2_col8\" class=\"data row2 col8\" >53.513884%</td>\n            </tr>\n            <tr>\n                        <th id=\"T_3964c551_9e3c_11eb_9e55_281878ced244level0_row3\" class=\"row_heading level0 row3\" >Hernandez High School</th>\n                        <td id=\"T_3964c551_9e3c_11eb_9e55_281878ced244row3_col0\" class=\"data row3 col0\" >District</td>\n                        <td id=\"T_3964c551_9e3c_11eb_9e55_281878ced244row3_col1\" class=\"data row3 col1\" >4635</td>\n                        <td id=\"T_3964c551_9e3c_11eb_9e55_281878ced244row3_col2\" class=\"data row3 col2\" >$3,022,020.00</td>\n                        <td id=\"T_3964c551_9e3c_11eb_9e55_281878ced244row3_col3\" class=\"data row3 col3\" >$652.00</td>\n                        <td id=\"T_3964c551_9e3c_11eb_9e55_281878ced244row3_col4\" class=\"data row3 col4\" >77.289752</td>\n                        <td id=\"T_3964c551_9e3c_11eb_9e55_281878ced244row3_col5\" class=\"data row3 col5\" >80.934412</td>\n                        <td id=\"T_3964c551_9e3c_11eb_9e55_281878ced244row3_col6\" class=\"data row3 col6\" >66.752967%</td>\n                        <td id=\"T_3964c551_9e3c_11eb_9e55_281878ced244row3_col7\" class=\"data row3 col7\" >80.862999%</td>\n                        <td id=\"T_3964c551_9e3c_11eb_9e55_281878ced244row3_col8\" class=\"data row3 col8\" >53.527508%</td>\n            </tr>\n            <tr>\n                        <th id=\"T_3964c551_9e3c_11eb_9e55_281878ced244level0_row4\" class=\"row_heading level0 row4\" >Johnson High School</th>\n                        <td id=\"T_3964c551_9e3c_11eb_9e55_281878ced244row4_col0\" class=\"data row4 col0\" >District</td>\n                        <td id=\"T_3964c551_9e3c_11eb_9e55_281878ced244row4_col1\" class=\"data row4 col1\" >4761</td>\n                        <td id=\"T_3964c551_9e3c_11eb_9e55_281878ced244row4_col2\" class=\"data row4 col2\" >$3,094,650.00</td>\n                        <td id=\"T_3964c551_9e3c_11eb_9e55_281878ced244row4_col3\" class=\"data row4 col3\" >$650.00</td>\n                        <td id=\"T_3964c551_9e3c_11eb_9e55_281878ced244row4_col4\" class=\"data row4 col4\" >77.072464</td>\n                        <td id=\"T_3964c551_9e3c_11eb_9e55_281878ced244row4_col5\" class=\"data row4 col5\" >80.966394</td>\n                        <td id=\"T_3964c551_9e3c_11eb_9e55_281878ced244row4_col6\" class=\"data row4 col6\" >66.057551%</td>\n                        <td id=\"T_3964c551_9e3c_11eb_9e55_281878ced244row4_col7\" class=\"data row4 col7\" >81.222432%</td>\n                        <td id=\"T_3964c551_9e3c_11eb_9e55_281878ced244row4_col8\" class=\"data row4 col8\" >53.539172%</td>\n            </tr>\n    </tbody></table>"
     },
     "metadata": {},
     "execution_count": 22
    }
   ],
   "source": [
    "bottom_performing_school_df = school_summary_df.sort_values(by=[\"% Overall Passing\"])\n",
    "\n",
    "bottom_performing_school_df_formatted = bottom_performing_school_df.head(5).style.format({\n",
    "    \n",
    "    \"Total School Budget\": \"${:,.2f}\",\n",
    "    \"Per Student Budget\": \"${:,.2f}\",\n",
    "    \"% Passing Math\": \"{:.6%}\",\n",
    "    \"% Passing Reading\": \"{:.6%}\",\n",
    "    \"% Overall Passing\": \"{:.6%}\",\n",
    "})\n",
    "\n",
    "bottom_performing_school_df_formatted"
   ]
  },
  {
   "cell_type": "markdown",
   "metadata": {
    "collapsed": true
   },
   "source": [
    "## Math Scores by Grade"
   ]
  },
  {
   "cell_type": "markdown",
   "metadata": {},
   "source": [
    "* Create a table that lists the average Reading Score for students of each grade level (9th, 10th, 11th, 12th) at each school.\n",
    "\n",
    "  * Create a pandas series for each grade. Hint: use a conditional statement.\n",
    "  \n",
    "  * Group each series by school\n",
    "  \n",
    "  * Combine the series into a dataframe\n",
    "  \n",
    "  * Optional: give the displayed data cleaner formatting"
   ]
  },
  {
   "cell_type": "code",
   "execution_count": 27,
   "metadata": {},
   "outputs": [
    {
     "output_type": "execute_result",
     "data": {
      "text/plain": [
       "                             9th       10th       11th       12th\n",
       "school_name                                                      \n",
       "Bailey High School     77.083676  76.996772  77.515588  76.492218\n",
       "Cabrera High School    83.094697  83.154506  82.765560  83.277487\n",
       "Figueroa High School   76.403037  76.539974  76.884344  77.151369\n",
       "Ford High School       77.361345  77.672316  76.918058  76.179963\n",
       "Griffin High School    82.044010  84.229064  83.842105  83.356164\n",
       "Hernandez High School  77.438495  77.337408  77.136029  77.186567\n",
       "Holden High School     83.787402  83.429825  85.000000  82.855422\n",
       "Huang High School      77.027251  75.908735  76.446602  77.225641\n",
       "Johnson High School    77.187857  76.691117  77.491653  76.863248\n",
       "Pena High School       83.625455  83.372000  84.328125  84.121547\n",
       "Rodriguez High School  76.859966  76.612500  76.395626  77.690748\n",
       "Shelton High School    83.420755  82.917411  83.383495  83.778976\n",
       "Thomas High School     83.590022  83.087886  83.498795  83.497041\n",
       "Wilson High School     83.085578  83.724422  83.195326  83.035794\n",
       "Wright High School     83.264706  84.010288  83.836782  83.644986"
      ],
      "text/html": "<div>\n<style scoped>\n    .dataframe tbody tr th:only-of-type {\n        vertical-align: middle;\n    }\n\n    .dataframe tbody tr th {\n        vertical-align: top;\n    }\n\n    .dataframe thead th {\n        text-align: right;\n    }\n</style>\n<table border=\"1\" class=\"dataframe\">\n  <thead>\n    <tr style=\"text-align: right;\">\n      <th></th>\n      <th>9th</th>\n      <th>10th</th>\n      <th>11th</th>\n      <th>12th</th>\n    </tr>\n    <tr>\n      <th>school_name</th>\n      <th></th>\n      <th></th>\n      <th></th>\n      <th></th>\n    </tr>\n  </thead>\n  <tbody>\n    <tr>\n      <th>Bailey High School</th>\n      <td>77.083676</td>\n      <td>76.996772</td>\n      <td>77.515588</td>\n      <td>76.492218</td>\n    </tr>\n    <tr>\n      <th>Cabrera High School</th>\n      <td>83.094697</td>\n      <td>83.154506</td>\n      <td>82.765560</td>\n      <td>83.277487</td>\n    </tr>\n    <tr>\n      <th>Figueroa High School</th>\n      <td>76.403037</td>\n      <td>76.539974</td>\n      <td>76.884344</td>\n      <td>77.151369</td>\n    </tr>\n    <tr>\n      <th>Ford High School</th>\n      <td>77.361345</td>\n      <td>77.672316</td>\n      <td>76.918058</td>\n      <td>76.179963</td>\n    </tr>\n    <tr>\n      <th>Griffin High School</th>\n      <td>82.044010</td>\n      <td>84.229064</td>\n      <td>83.842105</td>\n      <td>83.356164</td>\n    </tr>\n    <tr>\n      <th>Hernandez High School</th>\n      <td>77.438495</td>\n      <td>77.337408</td>\n      <td>77.136029</td>\n      <td>77.186567</td>\n    </tr>\n    <tr>\n      <th>Holden High School</th>\n      <td>83.787402</td>\n      <td>83.429825</td>\n      <td>85.000000</td>\n      <td>82.855422</td>\n    </tr>\n    <tr>\n      <th>Huang High School</th>\n      <td>77.027251</td>\n      <td>75.908735</td>\n      <td>76.446602</td>\n      <td>77.225641</td>\n    </tr>\n    <tr>\n      <th>Johnson High School</th>\n      <td>77.187857</td>\n      <td>76.691117</td>\n      <td>77.491653</td>\n      <td>76.863248</td>\n    </tr>\n    <tr>\n      <th>Pena High School</th>\n      <td>83.625455</td>\n      <td>83.372000</td>\n      <td>84.328125</td>\n      <td>84.121547</td>\n    </tr>\n    <tr>\n      <th>Rodriguez High School</th>\n      <td>76.859966</td>\n      <td>76.612500</td>\n      <td>76.395626</td>\n      <td>77.690748</td>\n    </tr>\n    <tr>\n      <th>Shelton High School</th>\n      <td>83.420755</td>\n      <td>82.917411</td>\n      <td>83.383495</td>\n      <td>83.778976</td>\n    </tr>\n    <tr>\n      <th>Thomas High School</th>\n      <td>83.590022</td>\n      <td>83.087886</td>\n      <td>83.498795</td>\n      <td>83.497041</td>\n    </tr>\n    <tr>\n      <th>Wilson High School</th>\n      <td>83.085578</td>\n      <td>83.724422</td>\n      <td>83.195326</td>\n      <td>83.035794</td>\n    </tr>\n    <tr>\n      <th>Wright High School</th>\n      <td>83.264706</td>\n      <td>84.010288</td>\n      <td>83.836782</td>\n      <td>83.644986</td>\n    </tr>\n  </tbody>\n</table>\n</div>"
     },
     "metadata": {},
     "execution_count": 27
    }
   ],
   "source": [
    "ninth_grade_math_score = student_data.loc[student_data[\"grade\"] == \"9th\"].groupby(\"school_name\")[\"math_score\"].mean()\n",
    "tenth_grade_math_score = student_data.loc[student_data[\"grade\"] == \"10th\"].groupby(\"school_name\")[\"math_score\"].mean()\n",
    "eleventh_grade_math_score = student_data.loc[student_data[\"grade\"] == \"11th\"].groupby(\"school_name\")[\"math_score\"].mean()\n",
    "twelfth_grade_math_score = student_data.loc[student_data[\"grade\"] == \"12th\"].groupby(\"school_name\")[\"math_score\"].mean()\n",
    "\n",
    "math_scores_by_grade_df = pd.DataFrame({\n",
    "        \"9th\": ninth_grade_math_score,\n",
    "        \"10th\": tenth_grade_math_score,\n",
    "        \"11th\": eleventh_grade_math_score,\n",
    "        \"12th\": twelfth_grade_math_score\n",
    "})\n",
    "\n",
    "math_scores_by_grade_df"
   ]
  },
  {
   "cell_type": "markdown",
   "metadata": {},
   "source": [
    "## Reading Score by Grade "
   ]
  },
  {
   "cell_type": "markdown",
   "metadata": {},
   "source": [
    "* Perform the same operations as above for reading scores"
   ]
  },
  {
   "cell_type": "code",
   "execution_count": 29,
   "metadata": {},
   "outputs": [
    {
     "output_type": "execute_result",
     "data": {
      "text/plain": [
       "                             9th       10th       11th       12th\n",
       "school_name                                                      \n",
       "Bailey High School     81.303155  80.907183  80.945643  80.912451\n",
       "Cabrera High School    83.676136  84.253219  83.788382  84.287958\n",
       "Figueroa High School   81.198598  81.408912  80.640339  81.384863\n",
       "Ford High School       80.632653  81.262712  80.403642  80.662338\n",
       "Griffin High School    83.369193  83.706897  84.288089  84.013699\n",
       "Hernandez High School  80.866860  80.660147  81.396140  80.857143\n",
       "Holden High School     83.677165  83.324561  83.815534  84.698795\n",
       "Huang High School      81.290284  81.512386  81.417476  80.305983\n",
       "Johnson High School    81.260714  80.773431  80.616027  81.227564\n",
       "Pena High School       83.807273  83.612000  84.335938  84.591160\n",
       "Rodriguez High School  80.993127  80.629808  80.864811  80.376426\n",
       "Shelton High School    84.122642  83.441964  84.373786  82.781671\n",
       "Thomas High School     83.728850  84.254157  83.585542  83.831361\n",
       "Wilson High School     83.939778  84.021452  83.764608  84.317673\n",
       "Wright High School     83.833333  83.812757  84.156322  84.073171"
      ],
      "text/html": "<div>\n<style scoped>\n    .dataframe tbody tr th:only-of-type {\n        vertical-align: middle;\n    }\n\n    .dataframe tbody tr th {\n        vertical-align: top;\n    }\n\n    .dataframe thead th {\n        text-align: right;\n    }\n</style>\n<table border=\"1\" class=\"dataframe\">\n  <thead>\n    <tr style=\"text-align: right;\">\n      <th></th>\n      <th>9th</th>\n      <th>10th</th>\n      <th>11th</th>\n      <th>12th</th>\n    </tr>\n    <tr>\n      <th>school_name</th>\n      <th></th>\n      <th></th>\n      <th></th>\n      <th></th>\n    </tr>\n  </thead>\n  <tbody>\n    <tr>\n      <th>Bailey High School</th>\n      <td>81.303155</td>\n      <td>80.907183</td>\n      <td>80.945643</td>\n      <td>80.912451</td>\n    </tr>\n    <tr>\n      <th>Cabrera High School</th>\n      <td>83.676136</td>\n      <td>84.253219</td>\n      <td>83.788382</td>\n      <td>84.287958</td>\n    </tr>\n    <tr>\n      <th>Figueroa High School</th>\n      <td>81.198598</td>\n      <td>81.408912</td>\n      <td>80.640339</td>\n      <td>81.384863</td>\n    </tr>\n    <tr>\n      <th>Ford High School</th>\n      <td>80.632653</td>\n      <td>81.262712</td>\n      <td>80.403642</td>\n      <td>80.662338</td>\n    </tr>\n    <tr>\n      <th>Griffin High School</th>\n      <td>83.369193</td>\n      <td>83.706897</td>\n      <td>84.288089</td>\n      <td>84.013699</td>\n    </tr>\n    <tr>\n      <th>Hernandez High School</th>\n      <td>80.866860</td>\n      <td>80.660147</td>\n      <td>81.396140</td>\n      <td>80.857143</td>\n    </tr>\n    <tr>\n      <th>Holden High School</th>\n      <td>83.677165</td>\n      <td>83.324561</td>\n      <td>83.815534</td>\n      <td>84.698795</td>\n    </tr>\n    <tr>\n      <th>Huang High School</th>\n      <td>81.290284</td>\n      <td>81.512386</td>\n      <td>81.417476</td>\n      <td>80.305983</td>\n    </tr>\n    <tr>\n      <th>Johnson High School</th>\n      <td>81.260714</td>\n      <td>80.773431</td>\n      <td>80.616027</td>\n      <td>81.227564</td>\n    </tr>\n    <tr>\n      <th>Pena High School</th>\n      <td>83.807273</td>\n      <td>83.612000</td>\n      <td>84.335938</td>\n      <td>84.591160</td>\n    </tr>\n    <tr>\n      <th>Rodriguez High School</th>\n      <td>80.993127</td>\n      <td>80.629808</td>\n      <td>80.864811</td>\n      <td>80.376426</td>\n    </tr>\n    <tr>\n      <th>Shelton High School</th>\n      <td>84.122642</td>\n      <td>83.441964</td>\n      <td>84.373786</td>\n      <td>82.781671</td>\n    </tr>\n    <tr>\n      <th>Thomas High School</th>\n      <td>83.728850</td>\n      <td>84.254157</td>\n      <td>83.585542</td>\n      <td>83.831361</td>\n    </tr>\n    <tr>\n      <th>Wilson High School</th>\n      <td>83.939778</td>\n      <td>84.021452</td>\n      <td>83.764608</td>\n      <td>84.317673</td>\n    </tr>\n    <tr>\n      <th>Wright High School</th>\n      <td>83.833333</td>\n      <td>83.812757</td>\n      <td>84.156322</td>\n      <td>84.073171</td>\n    </tr>\n  </tbody>\n</table>\n</div>"
     },
     "metadata": {},
     "execution_count": 29
    }
   ],
   "source": [
    "ninth_grade_reading_score = student_data.loc[student_data[\"grade\"] == \"9th\"].groupby(\"school_name\")[\"reading_score\"].mean()\n",
    "tenth_grade_reading_score = student_data.loc[student_data[\"grade\"] == \"10th\"].groupby(\"school_name\")[\"reading_score\"].mean()\n",
    "eleventh_grade_reading_score = student_data.loc[student_data[\"grade\"] == \"11th\"].groupby(\"school_name\")[\"reading_score\"].mean()\n",
    "twelfth_grade_reading_score = student_data.loc[student_data[\"grade\"] == \"12th\"].groupby(\"school_name\")[\"reading_score\"].mean()\n",
    "\n",
    "reading_scores_by_grade_df = pd.DataFrame({\n",
    "        \"9th\": ninth_grade_reading_score,\n",
    "        \"10th\": tenth_grade_reading_score,\n",
    "        \"11th\": eleventh_grade_reading_score,\n",
    "        \"12th\": twelfth_grade_reading_score\n",
    "})\n",
    "\n",
    "reading_scores_by_grade_df"
   ]
  },
  {
   "cell_type": "markdown",
   "metadata": {},
   "source": [
    "## Scores by School Spending"
   ]
  },
  {
   "cell_type": "markdown",
   "metadata": {},
   "source": [
    "* Create a table that breaks down school performances based on average Spending Ranges (Per Student). Use 4 reasonable bins to group school spending. Include in the table each of the following:\n",
    "  * Average Math Score\n",
    "  * Average Reading Score\n",
    "  * % Passing Math\n",
    "  * % Passing Reading\n",
    "  * Overall Passing Rate (Average of the above two)"
   ]
  },
  {
   "cell_type": "code",
   "execution_count": 18,
   "metadata": {},
   "outputs": [
    {
     "data": {
      "text/html": [
       "<div>\n",
       "<style scoped>\n",
       "    .dataframe tbody tr th:only-of-type {\n",
       "        vertical-align: middle;\n",
       "    }\n",
       "\n",
       "    .dataframe tbody tr th {\n",
       "        vertical-align: top;\n",
       "    }\n",
       "\n",
       "    .dataframe thead th {\n",
       "        text-align: right;\n",
       "    }\n",
       "</style>\n",
       "<table border=\"1\" class=\"dataframe\">\n",
       "  <thead>\n",
       "    <tr style=\"text-align: right;\">\n",
       "      <th></th>\n",
       "      <th>Average Math Score</th>\n",
       "      <th>Average Reading Score</th>\n",
       "      <th>% Passing Math</th>\n",
       "      <th>% Passing Reading</th>\n",
       "      <th>% Overall Passing</th>\n",
       "    </tr>\n",
       "    <tr>\n",
       "      <th>Spending Ranges (Per Student)</th>\n",
       "      <th></th>\n",
       "      <th></th>\n",
       "      <th></th>\n",
       "      <th></th>\n",
       "      <th></th>\n",
       "    </tr>\n",
       "  </thead>\n",
       "  <tbody>\n",
       "    <tr>\n",
       "      <th>&lt;$585</th>\n",
       "      <td>83.46</td>\n",
       "      <td>83.93</td>\n",
       "      <td>93.46</td>\n",
       "      <td>96.61</td>\n",
       "      <td>90.37</td>\n",
       "    </tr>\n",
       "    <tr>\n",
       "      <th>$585-630</th>\n",
       "      <td>81.90</td>\n",
       "      <td>83.16</td>\n",
       "      <td>87.13</td>\n",
       "      <td>92.72</td>\n",
       "      <td>81.42</td>\n",
       "    </tr>\n",
       "    <tr>\n",
       "      <th>$630-645</th>\n",
       "      <td>78.52</td>\n",
       "      <td>81.62</td>\n",
       "      <td>73.48</td>\n",
       "      <td>84.39</td>\n",
       "      <td>62.86</td>\n",
       "    </tr>\n",
       "    <tr>\n",
       "      <th>$645-680</th>\n",
       "      <td>77.00</td>\n",
       "      <td>81.03</td>\n",
       "      <td>66.16</td>\n",
       "      <td>81.13</td>\n",
       "      <td>53.53</td>\n",
       "    </tr>\n",
       "  </tbody>\n",
       "</table>\n",
       "</div>"
      ],
      "text/plain": [
       "                               Average Math Score  Average Reading Score  \\\n",
       "Spending Ranges (Per Student)                                              \n",
       "<$585                                       83.46                  83.93   \n",
       "$585-630                                    81.90                  83.16   \n",
       "$630-645                                    78.52                  81.62   \n",
       "$645-680                                    77.00                  81.03   \n",
       "\n",
       "                               % Passing Math  % Passing Reading  \\\n",
       "Spending Ranges (Per Student)                                      \n",
       "<$585                                   93.46              96.61   \n",
       "$585-630                                87.13              92.72   \n",
       "$630-645                                73.48              84.39   \n",
       "$645-680                                66.16              81.13   \n",
       "\n",
       "                               % Overall Passing  \n",
       "Spending Ranges (Per Student)                     \n",
       "<$585                                      90.37  \n",
       "$585-630                                   81.42  \n",
       "$630-645                                   62.86  \n",
       "$645-680                                   53.53  "
      ]
     },
     "execution_count": 18,
     "metadata": {},
     "output_type": "execute_result"
    }
   ],
   "source": []
  },
  {
   "cell_type": "markdown",
   "metadata": {},
   "source": [
    "## Scores by School Size"
   ]
  },
  {
   "cell_type": "markdown",
   "metadata": {},
   "source": [
    "* Perform the same operations as above, based on school size."
   ]
  },
  {
   "cell_type": "code",
   "execution_count": 22,
   "metadata": {
    "scrolled": true
   },
   "outputs": [
    {
     "data": {
      "text/html": [
       "<div>\n",
       "<style scoped>\n",
       "    .dataframe tbody tr th:only-of-type {\n",
       "        vertical-align: middle;\n",
       "    }\n",
       "\n",
       "    .dataframe tbody tr th {\n",
       "        vertical-align: top;\n",
       "    }\n",
       "\n",
       "    .dataframe thead th {\n",
       "        text-align: right;\n",
       "    }\n",
       "</style>\n",
       "<table border=\"1\" class=\"dataframe\">\n",
       "  <thead>\n",
       "    <tr style=\"text-align: right;\">\n",
       "      <th></th>\n",
       "      <th>Average Math Score</th>\n",
       "      <th>Average Reading Score</th>\n",
       "      <th>% Passing Math</th>\n",
       "      <th>% Passing Reading</th>\n",
       "      <th>% Overall Passing</th>\n",
       "    </tr>\n",
       "    <tr>\n",
       "      <th>School Size</th>\n",
       "      <th></th>\n",
       "      <th></th>\n",
       "      <th></th>\n",
       "      <th></th>\n",
       "      <th></th>\n",
       "    </tr>\n",
       "  </thead>\n",
       "  <tbody>\n",
       "    <tr>\n",
       "      <th>Small (&lt;1000)</th>\n",
       "      <td>83.821598</td>\n",
       "      <td>83.929843</td>\n",
       "      <td>93.550225</td>\n",
       "      <td>96.099437</td>\n",
       "      <td>89.883853</td>\n",
       "    </tr>\n",
       "    <tr>\n",
       "      <th>Medium (1000-2000)</th>\n",
       "      <td>83.374684</td>\n",
       "      <td>83.864438</td>\n",
       "      <td>93.599695</td>\n",
       "      <td>96.790680</td>\n",
       "      <td>90.621535</td>\n",
       "    </tr>\n",
       "    <tr>\n",
       "      <th>Large (2000-5000)</th>\n",
       "      <td>77.746417</td>\n",
       "      <td>81.344493</td>\n",
       "      <td>69.963361</td>\n",
       "      <td>82.766634</td>\n",
       "      <td>58.286003</td>\n",
       "    </tr>\n",
       "  </tbody>\n",
       "</table>\n",
       "</div>"
      ],
      "text/plain": [
       "                    Average Math Score  Average Reading Score  % Passing Math  \\\n",
       "School Size                                                                     \n",
       "Small (<1000)                83.821598              83.929843       93.550225   \n",
       "Medium (1000-2000)           83.374684              83.864438       93.599695   \n",
       "Large (2000-5000)            77.746417              81.344493       69.963361   \n",
       "\n",
       "                    % Passing Reading  % Overall Passing  \n",
       "School Size                                               \n",
       "Small (<1000)               96.099437          89.883853  \n",
       "Medium (1000-2000)          96.790680          90.621535  \n",
       "Large (2000-5000)           82.766634          58.286003  "
      ]
     },
     "execution_count": 22,
     "metadata": {},
     "output_type": "execute_result"
    }
   ],
   "source": []
  },
  {
   "cell_type": "markdown",
   "metadata": {},
   "source": [
    "## Scores by School Type"
   ]
  },
  {
   "cell_type": "markdown",
   "metadata": {},
   "source": [
    "* Perform the same operations as above, based on school type"
   ]
  },
  {
   "cell_type": "code",
   "execution_count": 24,
   "metadata": {},
   "outputs": [
    {
     "data": {
      "text/html": [
       "<div>\n",
       "<style scoped>\n",
       "    .dataframe tbody tr th:only-of-type {\n",
       "        vertical-align: middle;\n",
       "    }\n",
       "\n",
       "    .dataframe tbody tr th {\n",
       "        vertical-align: top;\n",
       "    }\n",
       "\n",
       "    .dataframe thead th {\n",
       "        text-align: right;\n",
       "    }\n",
       "</style>\n",
       "<table border=\"1\" class=\"dataframe\">\n",
       "  <thead>\n",
       "    <tr style=\"text-align: right;\">\n",
       "      <th></th>\n",
       "      <th>Average Math Score</th>\n",
       "      <th>Average Reading Score</th>\n",
       "      <th>% Passing Math</th>\n",
       "      <th>% Passing Reading</th>\n",
       "      <th>% Overall Passing</th>\n",
       "    </tr>\n",
       "    <tr>\n",
       "      <th>School Type</th>\n",
       "      <th></th>\n",
       "      <th></th>\n",
       "      <th></th>\n",
       "      <th></th>\n",
       "      <th></th>\n",
       "    </tr>\n",
       "  </thead>\n",
       "  <tbody>\n",
       "    <tr>\n",
       "      <th>Charter</th>\n",
       "      <td>83.473852</td>\n",
       "      <td>83.896421</td>\n",
       "      <td>93.620830</td>\n",
       "      <td>96.586489</td>\n",
       "      <td>90.432244</td>\n",
       "    </tr>\n",
       "    <tr>\n",
       "      <th>District</th>\n",
       "      <td>76.956733</td>\n",
       "      <td>80.966636</td>\n",
       "      <td>66.548453</td>\n",
       "      <td>80.799062</td>\n",
       "      <td>53.672208</td>\n",
       "    </tr>\n",
       "  </tbody>\n",
       "</table>\n",
       "</div>"
      ],
      "text/plain": [
       "             Average Math Score  Average Reading Score  % Passing Math  \\\n",
       "School Type                                                              \n",
       "Charter               83.473852              83.896421       93.620830   \n",
       "District              76.956733              80.966636       66.548453   \n",
       "\n",
       "             % Passing Reading  % Overall Passing  \n",
       "School Type                                        \n",
       "Charter              96.586489          90.432244  \n",
       "District             80.799062          53.672208  "
      ]
     },
     "execution_count": 24,
     "metadata": {},
     "output_type": "execute_result"
    }
   ],
   "source": []
  },
  {
   "cell_type": "code",
   "execution_count": null,
   "metadata": {},
   "outputs": [],
   "source": []
  }
 ],
 "metadata": {
  "anaconda-cloud": {},
  "kernel_info": {
   "name": "python3"
  },
  "kernelspec": {
   "name": "python385jvsc74a57bd08bcdc9f0b54fb929fe7e573c8289f065e1026585ef51087dcf212bd23fd08493",
   "display_name": "Python 3.8.5 64-bit ('base': conda)"
  },
  "language_info": {
   "codemirror_mode": {
    "name": "ipython",
    "version": 3
   },
   "file_extension": ".py",
   "mimetype": "text/x-python",
   "name": "python",
   "nbconvert_exporter": "python",
   "pygments_lexer": "ipython3",
   "version": "3.8.5"
  },
  "latex_envs": {
   "LaTeX_envs_menu_present": true,
   "autoclose": false,
   "autocomplete": true,
   "bibliofile": "biblio.bib",
   "cite_by": "apalike",
   "current_citInitial": 1,
   "eqLabelWithNumbers": true,
   "eqNumInitial": 1,
   "hotkeys": {
    "equation": "Ctrl-E",
    "itemize": "Ctrl-I"
   },
   "labels_anchors": false,
   "latex_user_defs": false,
   "report_style_numbering": false,
   "user_envs_cfg": false
  },
  "nteract": {
   "version": "0.8.4"
  }
 },
 "nbformat": 4,
 "nbformat_minor": 1
}